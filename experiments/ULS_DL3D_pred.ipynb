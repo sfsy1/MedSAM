{
 "cells": [
  {
   "metadata": {},
   "cell_type": "code",
   "source": [
    "%load_ext autoreload\n",
    "%autoreload 2"
   ],
   "id": "feab984a7361457a",
   "outputs": [],
   "execution_count": null
  },
  {
   "cell_type": "code",
   "id": "initial_id",
   "metadata": {
    "collapsed": true
   },
   "source": [
    "import os\n",
    "from pathlib import Path\n",
    "\n",
    "import nrrd\n",
    "import numpy as np\n",
    "import SimpleITK as sitk\n",
    "import torch\n",
    "from tqdm import tqdm\n",
    "\n",
    "from utils import process_img_array\n",
    "from matplotlib import pyplot as plt\n",
    "from experiments.utils import generate_seg\n",
    "from experiments.model_utils import load_medsam\n",
    "\n",
    "device = 'cuda' if torch.cuda.is_available() else 'cpu'; print(device)\n",
    "medsam = load_medsam(\"../work_dir/MedSAM/medsam_vit_b.pth\", device)"
   ],
   "outputs": [],
   "execution_count": null
  },
  {
   "metadata": {},
   "cell_type": "code",
   "source": [
    "data_folder = Path(\"/media/liushifeng/KINGSTON/ULS Jan 2025/ULS23/novel_data/ULS23_DeepLesion3D\")\n",
    "output_folder = Path(\"/home/liushifeng/Documents/GitHub/MedSAM/experiments/outputs/extend_3d/ULS_up_down/\")"
   ],
   "id": "19564bfcf7581c0c",
   "outputs": [],
   "execution_count": null
  },
  {
   "metadata": {},
   "cell_type": "code",
   "source": [
    "with open(data_folder / \"train.txt\") as f:\n",
    "    train_names = [x.rstrip() for x in f.readlines()]\n",
    "with open(data_folder / \"val.txt\") as f:\n",
    "    val_names = [x.rstrip() for x in f.readlines()]"
   ],
   "id": "a6ea748e514ba53e",
   "outputs": [],
   "execution_count": null
  },
  {
   "metadata": {},
   "cell_type": "code",
   "source": [
    "for filename in tqdm(val_names[126:]):\n",
    "    print(f\"Segmenting {filename}\")\n",
    "    img_path = data_folder / \"images\" / filename\n",
    "    seg_path = data_folder / \"labels\" / filename\n",
    "    break"
   ],
   "id": "a65c16c2b6c8f581",
   "outputs": [],
   "execution_count": null
  },
  {
   "metadata": {},
   "cell_type": "code",
   "source": [
    "ct = sitk.ReadImage(img_path)\n",
    "seg = sitk.ReadImage(seg_path)\n",
    "ct_array = sitk.GetArrayFromImage(ct)\n",
    "seg_array = sitk.GetArrayFromImage(seg)"
   ],
   "id": "8b2fc13c5b48a87d",
   "outputs": [],
   "execution_count": null
  },
  {
   "metadata": {},
   "cell_type": "code",
   "source": "vol_seg = generate_seg(img_path, seg_path, medsam)",
   "id": "438537ecaa29c994",
   "outputs": [],
   "execution_count": null
  },
  {
   "metadata": {},
   "cell_type": "code",
   "source": "np.where(vol_seg.sum(axis=(1,2)) > 0)",
   "id": "4dbde973731c031a",
   "outputs": [],
   "execution_count": null
  },
  {
   "metadata": {},
   "cell_type": "code",
   "source": [
    "for filename in tqdm(val_names[:1]):\n",
    "    print(f\"Segmenting {filename}\")\n",
    "    img_path = data_folder / \"images\" / filename\n",
    "    seg_path = data_folder / \"labels\" / filename\n",
    "    vol_seg = generate_seg(img_path, seg_path, medsam)\n",
    "\n",
    "    # # save nrrd 3d seg for eval\n",
    "    # nrrd.write(f\"{output_folder}/{filename}_pred.nrrd\", vol_seg)"
   ],
   "id": "a213192c9226a4d",
   "outputs": [],
   "execution_count": null
  },
  {
   "metadata": {},
   "cell_type": "code",
   "source": "",
   "id": "693ba8d4f84e5869",
   "outputs": [],
   "execution_count": null
  },
  {
   "metadata": {},
   "cell_type": "code",
   "source": "l, a = process_img_array(ct_array[60])",
   "id": "6a8c9e7fef71ba15",
   "outputs": [],
   "execution_count": null
  }
 ],
 "metadata": {
  "kernelspec": {
   "display_name": "Python 3",
   "language": "python",
   "name": "python3"
  },
  "language_info": {
   "codemirror_mode": {
    "name": "ipython",
    "version": 2
   },
   "file_extension": ".py",
   "mimetype": "text/x-python",
   "name": "python",
   "nbconvert_exporter": "python",
   "pygments_lexer": "ipython2",
   "version": "2.7.6"
  }
 },
 "nbformat": 4,
 "nbformat_minor": 5
}
