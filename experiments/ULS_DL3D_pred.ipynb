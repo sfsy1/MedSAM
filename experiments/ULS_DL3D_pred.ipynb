{
 "cells": [
  {
   "metadata": {},
   "cell_type": "code",
   "source": [
    "%load_ext autoreload\n",
    "%autoreload 2"
   ],
   "id": "feab984a7361457a",
   "outputs": [],
   "execution_count": null
  },
  {
   "cell_type": "code",
   "id": "initial_id",
   "metadata": {
    "collapsed": true
   },
   "source": [
    "import os\n",
    "from pathlib import Path\n",
    "\n",
    "import nrrd\n",
    "import numpy as np\n",
    "import SimpleITK as sitk\n",
    "import torch\n",
    "from tqdm import tqdm\n",
    "\n",
    "from utils import process_img_array, load_process_csv\n",
    "from matplotlib import pyplot as plt\n",
    "from experiments.utils import generate_seg\n",
    "from experiments.model_utils import load_medsam\n",
    "\n",
    "device = 'cuda' if torch.cuda.is_available() else 'cpu'; print(device)\n",
    "medsam = load_medsam(\"../work_dir/MedSAM/medsam_vit_b.pth\", device)"
   ],
   "outputs": [],
   "execution_count": null
  },
  {
   "metadata": {},
   "cell_type": "code",
   "source": [
    "data_folder = Path(\"/media/liushifeng/KINGSTON/ULS Jan 2025/ULS23/novel_data/ULS23_DeepLesion3D\")\n",
    "output_folder = Path(\"/home/liushifeng/Documents/GitHub/MedSAM/experiments/outputs/3dseg_with_bbox2d/ULS_DL3D_7Mar2025/\")"
   ],
   "id": "19564bfcf7581c0c",
   "outputs": [],
   "execution_count": null
  },
  {
   "metadata": {},
   "cell_type": "code",
   "source": [
    "with open(data_folder / \"train.txt\") as f:\n",
    "    train_names = [x.rstrip() for x in f.readlines()]\n",
    "with open(data_folder / \"val.txt\") as f:\n",
    "    val_names = [x.rstrip() for x in f.readlines()]"
   ],
   "id": "a6ea748e514ba53e",
   "outputs": [],
   "execution_count": null
  },
  {
   "metadata": {},
   "cell_type": "code",
   "source": [
    "# [Optional] load lesion type from DeepLesion\n",
    "csv_folder = Path(\"/media/liushifeng/KINGSTON/DeepLesion Nov 2024/\")\n",
    "df = load_process_csv(csv_folder / \"DL_info.csv\")\n",
    "LESION_TYPE_WINDOWS = {-1: None, 1: 'bone', 2: 'abdomen', 3: 'abdomen', 4: 'abdomen',\n",
    "     5: 'lung', 6: 'abdomen', 7: 'abdomen', 8: 'abdomen'}\n",
    "df['ct_window'] = df['Coarse_lesion_type'].map(LESION_TYPE_WINDOWS)"
   ],
   "id": "93c075a2867bebc4",
   "outputs": [],
   "execution_count": null
  },
  {
   "metadata": {},
   "cell_type": "code",
   "source": [
    "# load a sample ct & seg\n",
    "for filename in val_names[:1]:\n",
    "    img_path = data_folder / \"images\" / filename\n",
    "    seg_path = data_folder / \"labels\" / filename\n",
    "\n",
    "ct = sitk.ReadImage(img_path)\n",
    "seg = sitk.ReadImage(seg_path)\n",
    "ct_array = sitk.GetArrayFromImage(ct)\n",
    "seg_array = sitk.GetArrayFromImage(seg)"
   ],
   "id": "8b2fc13c5b48a87d",
   "outputs": [],
   "execution_count": null
  },
  {
   "metadata": {},
   "cell_type": "markdown",
   "source": "### Segment with windowing",
   "id": "d75880561b514de"
  },
  {
   "metadata": {},
   "cell_type": "code",
   "source": [
    "window_types = []\n",
    "for filename in tqdm(train_names):\n",
    "\n",
    "    orig_name = filename.split(\"_lesion_\")[0]\n",
    "    window = df[df['File_name'].str.contains(orig_name)].iloc[:1]['ct_window'].item()\n",
    "\n",
    "    if window is None:\n",
    "        continue\n",
    "    window_types.append(window)\n",
    "\n",
    "    # window = None\n",
    "    img_path = data_folder / \"images\" / filename\n",
    "    seg_path = data_folder / \"labels\" / filename\n",
    "\n",
    "    print(f\"Segmenting {filename} in {window=}\")\n",
    "\n",
    "    vol_seg = generate_seg(\n",
    "        img_path, seg_path, medsam,\n",
    "        None, # \"ULS_full_10Feb2025_viz\",\n",
    "        window,\n",
    "        plot=True\n",
    "    )\n",
    "    # save nrrd 3d seg for eval\n",
    "    nrrd.write(f\"{output_folder}/{filename}_pred.nrrd\", vol_seg)"
   ],
   "id": "a213192c9226a4d",
   "outputs": [],
   "execution_count": null
  },
  {
   "metadata": {},
   "cell_type": "markdown",
   "source": "### Segment 2D slices with GT 2D bbox",
   "id": "3c9393b270aaa753"
  },
  {
   "metadata": {},
   "cell_type": "code",
   "source": [
    "data_folder = Path(\"/media/liushifeng/KINGSTON/ULS Jan 2025/ULS23/novel_data/ULS23_DeepLesion3D\")\n",
    "output_folder = Path(\"/home/liushifeng/Documents/GitHub/MedSAM/experiments/outputs/3dseg_with_bbox2d/ULS_DL3D_7Mar2025/\")"
   ],
   "id": "d48d38e12d426903",
   "outputs": [],
   "execution_count": null
  },
  {
   "metadata": {},
   "cell_type": "code",
   "source": [
    "from experiments.utils import generate_seg_on_slices\n",
    "\n",
    "# Perform seg with windowing\n",
    "res = []\n",
    "window_types = []\n",
    "for filename in tqdm(val_names):\n",
    "\n",
    "    orig_name = filename.split(\"_lesion_\")[0]\n",
    "    window = df[df['File_name'].str.contains(orig_name)].iloc[:1]['ct_window'].item()\n",
    "\n",
    "    if window is None:\n",
    "        continue\n",
    "    window_types.append(window)\n",
    "\n",
    "    # window = None\n",
    "    img_path = data_folder / \"images\" / filename\n",
    "    seg_path = data_folder / \"labels\" / filename\n",
    "\n",
    "    dices, vol_scores = generate_seg_on_slices(\n",
    "        img_path, seg_path, medsam\n",
    "    )\n",
    "    for i, (d, v) in enumerate(zip(dices, vol_scores)):\n",
    "        res.append(\n",
    "            {\n",
    "                \"filename\": filename,\n",
    "                \"lesion_num\": i,\n",
    "                \"dice\": d,\n",
    "                \"vs\": v,\n",
    "            }\n",
    "        )\n",
    "\n",
    "    # # save nrrd 3d seg for eval\n",
    "    # nrrd.write(f\"{output_folder}/{filename}_pred.nrrd\", vol_seg)"
   ],
   "id": "9006f284df27e40b",
   "outputs": [],
   "execution_count": null
  },
  {
   "metadata": {},
   "cell_type": "code",
   "source": [
    "import pandas as pd\n",
    "d = pd.DataFrame(res)"
   ],
   "id": "55ccea8e6b52becf",
   "outputs": [],
   "execution_count": null
  },
  {
   "metadata": {},
   "cell_type": "code",
   "source": "d[['dice', 'vs']].describe()",
   "id": "7e4f0efacb5e51c7",
   "outputs": [],
   "execution_count": null
  }
 ],
 "metadata": {
  "kernelspec": {
   "display_name": "Python 3",
   "language": "python",
   "name": "python3"
  },
  "language_info": {
   "codemirror_mode": {
    "name": "ipython",
    "version": 2
   },
   "file_extension": ".py",
   "mimetype": "text/x-python",
   "name": "python",
   "nbconvert_exporter": "python",
   "pygments_lexer": "ipython2",
   "version": "2.7.6"
  }
 },
 "nbformat": 4,
 "nbformat_minor": 5
}
