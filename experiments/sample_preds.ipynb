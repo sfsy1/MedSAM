{
 "cells": [
  {
   "metadata": {
    "ExecuteTime": {
     "end_time": "2025-01-17T16:16:26.707455Z",
     "start_time": "2025-01-17T16:16:26.696431Z"
    }
   },
   "cell_type": "code",
   "source": [
    "%load_ext autoreload\n",
    "%autoreload 2"
   ],
   "id": "7ae26f2727b9bb8a",
   "outputs": [],
   "execution_count": 6
  },
  {
   "cell_type": "code",
   "id": "c5f3876d-c8a4-4d03-b0c6-53c030b3a1a0",
   "metadata": {
    "ExecuteTime": {
     "end_time": "2025-01-17T16:16:28.776046Z",
     "start_time": "2025-01-17T16:16:27.256863Z"
    }
   },
   "source": [
    "import glob\n",
    "import os\n",
    "from pathlib import Path\n",
    "\n",
    "import matplotlib.pyplot as plt\n",
    "import torch\n",
    "\n",
    "from experiments.model_utils import load_medsam\n",
    "from experiments.utils import (\n",
    "    load_process_csv, process_slice, process_bbox_str, segment, split_seg, get_seg_bbox, \\\n",
    "    get_slices_filenames, segment_slice_sequence\n",
    ")\n",
    "from experiments.viz_utils import plot_results\n",
    "\n",
    "device = 'cuda' if torch.cuda.is_available() else 'cpu'\n",
    "medsam = load_medsam(\"../work_dir/MedSAM/medsam_vit_b.pth\", device)"
   ],
   "outputs": [
    {
     "name": "stderr",
     "output_type": "stream",
     "text": [
      "/home/liushifeng/Documents/GitHub/MedSAM/.venv/lib/python3.10/site-packages/torch/cuda/__init__.py:129: UserWarning: CUDA initialization: CUDA unknown error - this may be due to an incorrectly set up environment, e.g. changing env variable CUDA_VISIBLE_DEVICES after program start. Setting the available devices to be zero. (Triggered internally at ../c10/cuda/CUDAFunctions.cpp:108.)\n",
      "  return torch._C._cuda_getDeviceCount() > 0\n"
     ]
    }
   ],
   "execution_count": 7
  },
  {
   "cell_type": "code",
   "id": "57b967ab-4999-449e-afba-23cf9d7e8670",
   "metadata": {
    "ExecuteTime": {
     "end_time": "2025-01-17T16:16:30.365213Z",
     "start_time": "2025-01-17T16:16:30.088091Z"
    }
   },
   "source": [
    "data_folder = Path(\"/home/liushifeng/Desktop/DeepLesion Dataset/\")\n",
    "df = load_process_csv(data_folder / \"DL_info.csv\")\n",
    "\n",
    "batch_folders = [data_folder / f for f in os.listdir(data_folder) if f.startswith(\"Images_png_\") and \".zip\" not in f]"
   ],
   "outputs": [],
   "execution_count": 8
  },
  {
   "metadata": {},
   "cell_type": "markdown",
   "source": "## Segment 2D slices",
   "id": "bf8ea3237e09857e"
  },
  {
   "cell_type": "code",
   "id": "2600090eae79da1",
   "metadata": {
    "ExecuteTime": {
     "end_time": "2025-01-17T16:21:19.561531Z",
     "start_time": "2025-01-17T16:21:19.549111Z"
    }
   },
   "source": [
    "# %matplotlib inline\n",
    "scan_folders = [Path(f) for f in glob.glob(str(data_folder / \"Images_png_*/Images_png/*\"))]"
   ],
   "outputs": [],
   "execution_count": 30
  },
  {
   "metadata": {
    "ExecuteTime": {
     "end_time": "2025-01-17T16:18:05.041566Z",
     "start_time": "2025-01-17T16:18:05.021211Z"
    }
   },
   "cell_type": "code",
   "source": [
    "# %matplotlib inline\n",
    "# every scan_folder contains N png files\n",
    "for scan_folder in scan_folders:\n",
    "    scan_name = scan_folder.stem\n",
    "    print(\"Scan name:\", scan_name)\n",
    "    df_scan = df[df['scan_name'].eq(scan_name)]\n",
    "\n",
    "    for i in range(len(df_scan)):\n",
    "        df_slice = df_scan.iloc[i]\n",
    "        k = df_slice['Key_slice_index']\n",
    "\n",
    "        key_slice_path = scan_folder / df_slice['file_name']\n",
    "        lung, abdomen = process_slice(key_slice_path, rgb=True)\n",
    "\n",
    "        bbox = [round(x) for x in process_bbox_str(df_slice['Bounding_boxes'])]\n",
    "        seg = segment(abdomen, bbox, medsam)\n",
    "        segs = split_seg(seg)\n",
    "\n",
    "        plot_results(abdomen, [bbox], segs, plot=True,\n",
    "                     save_path=f\"outputs/2d segs/{scan_name}_{k}\")\n",
    "        break\n",
    "    break"
   ],
   "id": "41e85551-f50c-45f8-9e3b-19a0c7971904",
   "outputs": [
    {
     "ename": "NameError",
     "evalue": "name 'scan_folders' is not defined",
     "output_type": "error",
     "traceback": [
      "\u001B[0;31m---------------------------------------------------------------------------\u001B[0m",
      "\u001B[0;31mNameError\u001B[0m                                 Traceback (most recent call last)",
      "Cell \u001B[0;32mIn[13], line 3\u001B[0m\n\u001B[1;32m      1\u001B[0m \u001B[38;5;66;03m# %matplotlib inline\u001B[39;00m\n\u001B[1;32m      2\u001B[0m \u001B[38;5;66;03m# every scan_folder contains N png files\u001B[39;00m\n\u001B[0;32m----> 3\u001B[0m \u001B[38;5;28;01mfor\u001B[39;00m scan_folder \u001B[38;5;129;01min\u001B[39;00m \u001B[43mscan_folders\u001B[49m:\n\u001B[1;32m      4\u001B[0m     scan_name \u001B[38;5;241m=\u001B[39m scan_folder\u001B[38;5;241m.\u001B[39mstem\n\u001B[1;32m      5\u001B[0m     \u001B[38;5;28mprint\u001B[39m(\u001B[38;5;124m\"\u001B[39m\u001B[38;5;124mScan name:\u001B[39m\u001B[38;5;124m\"\u001B[39m, scan_name)\n",
      "\u001B[0;31mNameError\u001B[0m: name 'scan_folders' is not defined"
     ]
    }
   ],
   "execution_count": 13
  },
  {
   "metadata": {},
   "cell_type": "markdown",
   "source": "## Extend to 3D",
   "id": "9f5976c1f8c638a"
  },
  {
   "metadata": {
    "jupyter": {
     "is_executing": true
    },
    "ExecuteTime": {
     "start_time": "2025-01-17T16:24:51.701702Z"
    }
   },
   "cell_type": "code",
   "source": [
    "for scan_folder in scan_folders:\n",
    "    scan_name = scan_folder.stem\n",
    "    print(\"Scan name:\", scan_name)\n",
    "    df_scan = df[df['scan_name'].eq(scan_name)]\n",
    "\n",
    "    for i in range(len(df_scan)):\n",
    "        df_slice = df_scan.iloc[i]\n",
    "        print(df_slice)\n",
    "        k = df_slice['Key_slice_index']\n",
    "        slice_filenames = get_slices_filenames(df_slice['Slice_range'].split(\", \"))\n",
    "        up_slice_paths = [scan_folder / f for f in slice_filenames if int(f.split(\".\")[0]) >= k]\n",
    "        down_slice_paths = [scan_folder / f for f in slice_filenames if int(f.split(\".\")[0]) <= k][::-1]\n",
    "\n",
    "        plot = False\n",
    "        save = True\n",
    "        up_slices, up_slice_segs = segment_slice_sequence(medsam, up_slice_paths, df_slice['bbox'], plot=plot, save=save)\n",
    "        down_slices, down_slice_segs = segment_slice_sequence(medsam, down_slice_paths, df_slice['bbox'], plot=plot, save=save)\n",
    "        break"
   ],
   "id": "309c563b1d7ef2a1",
   "outputs": [
    {
     "name": "stdout",
     "output_type": "stream",
     "text": [
      "Scan name: 004428_01_01\n",
      "cont\n",
      "Scan name: 004415_01_01\n",
      "File_name                                                  004415_01_01_065.png\n",
      "Patient_index                                                              4415\n",
      "Study_index                                                                   1\n",
      "Series_ID                                                                     1\n",
      "Key_slice_index                                                              65\n",
      "Measurement_coordinates       274.659, 205.36, 288.927, 212.208, 284.035, 20...\n",
      "Bounding_boxes                               269.659, 199.137, 293.927, 219.328\n",
      "Lesion_diameters_Pixel_                                         15.826, 11.3043\n",
      "Normalized_lesion_location                         0.529507, 0.374532, 0.394307\n",
      "Coarse_lesion_type                                                           -1\n",
      "Possibly_noisy                                                                0\n",
      "Slice_range                                                              35, 95\n",
      "Spacing_mm_px_                                                0.9375, 0.9375, 1\n",
      "Image_size                                                             512, 512\n",
      "DICOM_windows                                                         -175, 275\n",
      "Patient_gender                                                                M\n",
      "Patient_age                                                                49.0\n",
      "Train_Val_Test                                                                1\n",
      "scan_name                                                          004415_01_01\n",
      "file_name                                                               065.png\n",
      "image_path                                                 004415_01_01/065.png\n",
      "aspect_ratio                                                           1.066667\n",
      "bbox                                       [269.659, 199.137, 293.927, 219.328]\n",
      "Name: 32575, dtype: object\n",
      "Scan name: 004449_01_01\n",
      "File_name                                                  004449_01_01_030.png\n",
      "Patient_index                                                              4449\n",
      "Study_index                                                                   1\n",
      "Series_ID                                                                     1\n",
      "Key_slice_index                                                              30\n",
      "Measurement_coordinates       136.297, 370.593, 143.696, 369.976, 140.407, 3...\n",
      "Bounding_boxes                               131.297, 362.304, 148.696, 377.237\n",
      "Lesion_diameters_Pixel_                                        7.42447, 4.94966\n",
      "Normalized_lesion_location                          0.256491, 0.727355, 0.56106\n",
      "Coarse_lesion_type                                                           -1\n",
      "Possibly_noisy                                                                0\n",
      "Slice_range                                                               1, 60\n",
      "Spacing_mm_px_                                            0.785156, 0.785156, 1\n",
      "Image_size                                                             512, 512\n",
      "DICOM_windows                                                        -1500, 500\n",
      "Patient_gender                                                                F\n",
      "Patient_age                                                                22.0\n",
      "Train_Val_Test                                                                1\n",
      "scan_name                                                          004449_01_01\n",
      "file_name                                                               030.png\n",
      "image_path                                                 004449_01_01/030.png\n",
      "aspect_ratio                                                           1.273632\n",
      "bbox                                       [131.297, 362.304, 148.696, 377.237]\n",
      "Name: 32708, dtype: object\n"
     ]
    }
   ],
   "execution_count": null
  },
  {
   "metadata": {
    "ExecuteTime": {
     "end_time": "2025-01-17T16:16:40.600551Z",
     "start_time": "2025-01-17T16:16:40.568040Z"
    }
   },
   "cell_type": "code",
   "source": [
    "%matplotlib inline\n",
    "plot = False\n",
    "up_slices, up_slice_segs = segment_slice_sequence(medsam, up_slice_paths, df_slice['bbox'], plot=plot, save=True)\n",
    "down_slices, down_slice_segs = segment_slice_sequence(medsam, down_slice_paths, df_slice['bbox'], plot=plot, save=True)"
   ],
   "id": "52e01f9a338a6873",
   "outputs": [
    {
     "ename": "NameError",
     "evalue": "name 'up_slice_paths' is not defined",
     "output_type": "error",
     "traceback": [
      "\u001B[0;31m---------------------------------------------------------------------------\u001B[0m",
      "\u001B[0;31mNameError\u001B[0m                                 Traceback (most recent call last)",
      "Cell \u001B[0;32mIn[9], line 3\u001B[0m\n\u001B[1;32m      1\u001B[0m get_ipython()\u001B[38;5;241m.\u001B[39mrun_line_magic(\u001B[38;5;124m'\u001B[39m\u001B[38;5;124mmatplotlib\u001B[39m\u001B[38;5;124m'\u001B[39m, \u001B[38;5;124m'\u001B[39m\u001B[38;5;124minline\u001B[39m\u001B[38;5;124m'\u001B[39m)\n\u001B[1;32m      2\u001B[0m plot \u001B[38;5;241m=\u001B[39m \u001B[38;5;28;01mFalse\u001B[39;00m\n\u001B[0;32m----> 3\u001B[0m up_slices, up_slice_segs \u001B[38;5;241m=\u001B[39m segment_slice_sequence(medsam, \u001B[43mup_slice_paths\u001B[49m, df_slice[\u001B[38;5;124m'\u001B[39m\u001B[38;5;124mbbox\u001B[39m\u001B[38;5;124m'\u001B[39m], plot\u001B[38;5;241m=\u001B[39mplot, save\u001B[38;5;241m=\u001B[39m\u001B[38;5;28;01mTrue\u001B[39;00m)\n\u001B[1;32m      4\u001B[0m down_slices, down_slice_segs \u001B[38;5;241m=\u001B[39m segment_slice_sequence(medsam, down_slice_paths, df_slice[\u001B[38;5;124m'\u001B[39m\u001B[38;5;124mbbox\u001B[39m\u001B[38;5;124m'\u001B[39m], plot\u001B[38;5;241m=\u001B[39mplot, save\u001B[38;5;241m=\u001B[39m\u001B[38;5;28;01mTrue\u001B[39;00m)\n",
      "\u001B[0;31mNameError\u001B[0m: name 'up_slice_paths' is not defined"
     ]
    }
   ],
   "execution_count": 9
  },
  {
   "metadata": {},
   "cell_type": "code",
   "source": [
    "import numpy as np\n",
    "import pandas as pd"
   ],
   "id": "92d39720684bd90b",
   "outputs": [],
   "execution_count": null
  },
  {
   "metadata": {
    "ExecuteTime": {
     "end_time": "2025-01-17T16:08:54.659260Z",
     "start_time": "2025-01-17T16:08:54.656247Z"
    }
   },
   "cell_type": "code",
   "source": [
    "def get_slice_stats(slices, slice_segs):\n",
    "    median_conf = []\n",
    "    size = []\n",
    "    intensity = []\n",
    "\n",
    "    for i in range(len(slices)):\n",
    "        img = np.array(slices[i])\n",
    "        seg = slice_segs[i]\n",
    "        low, mid, high = split_seg(seg)\n",
    "\n",
    "        median_conf.append(np.median(seg[seg > 0.1]))\n",
    "        size.append((mid.sum() + high.sum()))\n",
    "        intensity.append(np.mean(img[high.astype(bool)]))\n",
    "\n",
    "    # get stats of slices\n",
    "    res = pd.DataFrame([median_conf, size, intensity]).T\n",
    "    res.columns = ['median_conf', 'size', 'intensity']\n",
    "    res = res / res.iloc[0]\n",
    "    return res"
   ],
   "id": "93238c66ef8432ee",
   "outputs": [],
   "execution_count": 2
  },
  {
   "metadata": {
    "ExecuteTime": {
     "end_time": "2025-01-17T16:16:16.523330Z",
     "start_time": "2025-01-17T16:16:16.514141Z"
    }
   },
   "cell_type": "code",
   "source": "res",
   "id": "4a25e841dd23b140",
   "outputs": [
    {
     "ename": "NameError",
     "evalue": "name 'res' is not defined",
     "output_type": "error",
     "traceback": [
      "\u001B[0;31m---------------------------------------------------------------------------\u001B[0m",
      "\u001B[0;31mNameError\u001B[0m                                 Traceback (most recent call last)",
      "Cell \u001B[0;32mIn[4], line 1\u001B[0m\n\u001B[0;32m----> 1\u001B[0m \u001B[43mres\u001B[49m\n",
      "\u001B[0;31mNameError\u001B[0m: name 'res' is not defined"
     ]
    }
   ],
   "execution_count": 4
  },
  {
   "metadata": {
    "ExecuteTime": {
     "end_time": "2025-01-17T16:08:55.098974Z",
     "start_time": "2025-01-17T16:08:55.076259Z"
    }
   },
   "cell_type": "code",
   "source": [
    "res_up = get_slice_stats(up_slices, up_slice_segs)\n",
    "res_down = get_slice_stats(down_slices, down_slice_segs)\n",
    "\n",
    "res = pd.concat([res_up.iloc[1:].iloc[::-1], res_down], axis=0).reset_index(drop=True)\n",
    "res.plot(figsize=(5,4));"
   ],
   "id": "2c05f3a93bfa270d",
   "outputs": [
    {
     "ename": "NameError",
     "evalue": "name 'up_slices' is not defined",
     "output_type": "error",
     "traceback": [
      "\u001B[0;31m---------------------------------------------------------------------------\u001B[0m",
      "\u001B[0;31mNameError\u001B[0m                                 Traceback (most recent call last)",
      "Cell \u001B[0;32mIn[3], line 1\u001B[0m\n\u001B[0;32m----> 1\u001B[0m res_up \u001B[38;5;241m=\u001B[39m get_slice_stats(\u001B[43mup_slices\u001B[49m, up_slice_segs)\n\u001B[1;32m      2\u001B[0m res_down \u001B[38;5;241m=\u001B[39m get_slice_stats(down_slices, down_slice_segs)\n\u001B[1;32m      4\u001B[0m res \u001B[38;5;241m=\u001B[39m pd\u001B[38;5;241m.\u001B[39mconcat([res_up\u001B[38;5;241m.\u001B[39miloc[\u001B[38;5;241m1\u001B[39m:]\u001B[38;5;241m.\u001B[39miloc[::\u001B[38;5;241m-\u001B[39m\u001B[38;5;241m1\u001B[39m], res_down], axis\u001B[38;5;241m=\u001B[39m\u001B[38;5;241m0\u001B[39m)\u001B[38;5;241m.\u001B[39mreset_index(drop\u001B[38;5;241m=\u001B[39m\u001B[38;5;28;01mTrue\u001B[39;00m)\n",
      "\u001B[0;31mNameError\u001B[0m: name 'up_slices' is not defined"
     ]
    }
   ],
   "execution_count": 3
  },
  {
   "metadata": {},
   "cell_type": "code",
   "source": "",
   "id": "7f6a8e32c1a8821a",
   "outputs": [],
   "execution_count": null
  },
  {
   "metadata": {},
   "cell_type": "code",
   "source": "",
   "id": "c3869592f3dee395",
   "outputs": [],
   "execution_count": null
  },
  {
   "metadata": {},
   "cell_type": "code",
   "source": "",
   "id": "fcf53e5e9ed13cb",
   "outputs": [],
   "execution_count": null
  },
  {
   "metadata": {},
   "cell_type": "code",
   "source": "",
   "id": "feec51d39bf89613",
   "outputs": [],
   "execution_count": null
  },
  {
   "metadata": {},
   "cell_type": "code",
   "source": [
    "import numpy as np\n",
    "\n",
    "# Calculate the centroid of the segs[2] 2D mask\n",
    "mask = segs[2]\n",
    "y, x = np.where(mask == 1)\n",
    "centroid = (np.mean(x), np.mean(y)) if len(x) > 0 and len(y) > 0 else (None, None)\n",
    "print(\"Centroid:\", centroid)"
   ],
   "id": "22d32ee9f293031f",
   "outputs": [],
   "execution_count": null
  },
  {
   "cell_type": "code",
   "id": "125317f3-4d31-4105-9a97-452de0195465",
   "metadata": {},
   "source": [
    "plt.figure(figsize=(6, 5));\n",
    "plt.imshow(abdomen);\n",
    "plt.imshow(segs[2], cmap=transparent_cmap(\"red\"));\n",
    "plt.colorbar();\n",
    "plt.axis('off');"
   ],
   "outputs": [],
   "execution_count": null
  },
  {
   "metadata": {},
   "cell_type": "code",
   "source": "",
   "id": "38df5843cade4c4c",
   "outputs": [],
   "execution_count": null
  }
 ],
 "metadata": {
  "kernelspec": {
   "display_name": "medsam-py3.10",
   "language": "python",
   "name": "medsam-py3.10"
  },
  "language_info": {
   "codemirror_mode": {
    "name": "ipython",
    "version": 3
   },
   "file_extension": ".py",
   "mimetype": "text/x-python",
   "name": "python",
   "nbconvert_exporter": "python",
   "pygments_lexer": "ipython3",
   "version": "3.10.12"
  }
 },
 "nbformat": 4,
 "nbformat_minor": 5
}
