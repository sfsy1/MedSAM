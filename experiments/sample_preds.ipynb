{
 "cells": [
  {
   "metadata": {},
   "cell_type": "code",
   "source": [
    "%load_ext autoreload\n",
    "%autoreload 2"
   ],
   "id": "7ae26f2727b9bb8a",
   "outputs": [],
   "execution_count": null
  },
  {
   "cell_type": "code",
   "id": "c5f3876d-c8a4-4d03-b0c6-53c030b3a1a0",
   "metadata": {},
   "source": [
    "import glob\n",
    "import os\n",
    "from pathlib import Path\n",
    "\n",
    "import matplotlib.pyplot as plt\n",
    "import torch\n",
    "\n",
    "from experiments.model_utils import load_medsam\n",
    "from experiments.utils import (\n",
    "    load_process_csv, process_slice, process_bbox_str, segment, split_seg, get_slices_filenames,\n",
    ")\n",
    "from experiments.viz_utils import plot_results\n",
    "\n",
    "device = 'cuda' if torch.cuda.is_available() else 'cpu'\n",
    "medsam = load_medsam(\"../work_dir/MedSAM/medsam_vit_b.pth\", device)"
   ],
   "outputs": [],
   "execution_count": null
  },
  {
   "cell_type": "code",
   "id": "57b967ab-4999-449e-afba-23cf9d7e8670",
   "metadata": {},
   "source": [
    "data_folder = Path(\"/home/liushifeng/Desktop/DeepLesion Dataset/\")\n",
    "df = load_process_csv(data_folder / \"DL_info.csv\")\n",
    "\n",
    "batch_folders = [data_folder / f for f in os.listdir(data_folder) if f.startswith(\"Images_png_\") and \".zip\" not in f]"
   ],
   "outputs": [],
   "execution_count": null
  },
  {
   "metadata": {},
   "cell_type": "code",
   "source": "{i+1:x for i, x in enumerate(\"bone, abdomen, mediastinum, liver, lung, kidney, soft tissue, pelvis\".split(\", \"))}",
   "id": "6811ad42d3b118d7",
   "outputs": [],
   "execution_count": null
  },
  {
   "metadata": {},
   "cell_type": "code",
   "source": [
    "lesion_types = {\n",
    "    -1: None,\n",
    "    1: 'bone',\n",
    "    2: 'abdomen',\n",
    "    3: 'mediastinum',\n",
    "    4: 'liver',\n",
    "    5: 'lung',\n",
    "    6: 'kidney',\n",
    "    7: 'soft tissue',\n",
    "8: 'pelvis'}"
   ],
   "id": "43d3e27d84366b15",
   "outputs": [],
   "execution_count": null
  },
  {
   "metadata": {},
   "cell_type": "markdown",
   "source": "## Segment 2D slices",
   "id": "bf8ea3237e09857e"
  },
  {
   "cell_type": "code",
   "id": "2600090eae79da1",
   "metadata": {},
   "source": [
    "# %matplotlib inline\n",
    "scan_folders = [Path(f) for f in glob.glob(str(data_folder / \"Images_png_*/Images_png/*\"))]"
   ],
   "outputs": [],
   "execution_count": null
  },
  {
   "metadata": {},
   "cell_type": "code",
   "source": [
    "# %matplotlib inline\n",
    "# every scan_folder contains N png files\n",
    "for scan_folder in scan_folders:\n",
    "    scan_name = scan_folder.stem\n",
    "    print(\"Scan name:\", scan_name)\n",
    "    df_scan = df[df['scan_name'].eq(scan_name)]\n",
    "\n",
    "    for i in range(len(df_scan)):\n",
    "        df_slice = df_scan.iloc[i]\n",
    "        k = df_slice['Key_slice_index']\n",
    "\n",
    "        key_slice_path = scan_folder / df_slice['file_name']\n",
    "        lung, abdomen = process_slice(key_slice_path, rgb=True)\n",
    "\n",
    "        bbox = [round(x) for x in process_bbox_str(df_slice['Bounding_boxes'])]\n",
    "        seg = segment(abdomen, bbox, medsam)\n",
    "        segs = split_seg(seg)\n",
    "\n",
    "        plot_results(abdomen, [bbox], segs, plot=True,\n",
    "                     save_path=f\"outputs/2d segs/{scan_name}_{k}\")\n",
    "        break\n",
    "    break"
   ],
   "id": "41e85551-f50c-45f8-9e3b-19a0c7971904",
   "outputs": [],
   "execution_count": null
  },
  {
   "metadata": {},
   "cell_type": "markdown",
   "source": "## Extend to 3D",
   "id": "9f5976c1f8c638a"
  },
  {
   "metadata": {},
   "cell_type": "code",
   "source": [
    "from experiments.utils import slice_num, segment_slices\n",
    "from PIL import Image\n",
    "\n",
    "# every scan_folder contains N png slices\n",
    "ids = [0, 2, 3, 6, 20, 29, 36, 40, 45]\n",
    "lesion_type = 5\n",
    "for si, scan_folder in enumerate(scan_folders):\n",
    "    print(si)\n",
    "    if si not in ids:\n",
    "        continue\n",
    "    scan_name = scan_folder.stem\n",
    "    df_scan = df[df['scan_name'].eq(scan_name)]\n",
    "\n",
    "    # if lesion_type not in set(df_scan['Coarse_lesion_type']):\n",
    "    #     continue\n",
    "\n",
    "    # looping through all the png slices\n",
    "    for i in range(len(df_scan)):\n",
    "        df_slice = df_scan.iloc[i]\n",
    "        # if df_slice['Coarse_lesion_type'] != lesion_type:\n",
    "        #     continue\n",
    "\n",
    "        scan = df_slice['scan_name']\n",
    "        k = df_slice['Key_slice_index']\n",
    "        slice_files = get_slices_filenames(df_slice['Slice_range'].split(\", \"))\n",
    "\n",
    "        up_paths = [scan_folder / f for f in slice_files if slice_num(f) >= k]\n",
    "        down_paths = [scan_folder / f for f in slice_files if slice_num(f) <= k][::-1]\n",
    "\n",
    "        up_slices = [Image.open(x) for x in up_paths]\n",
    "        down_slices = [Image.open(x) for x in down_paths]\n",
    "        up_indices = [x.stem for x in up_paths]\n",
    "        down_indices = [x.stem for x in down_paths]\n",
    "\n",
    "        plot = True\n",
    "        save = False\n",
    "        window = True\n",
    "        up_slice_segs = segment_slices(\n",
    "            medsam, up_slices, df_slice['bbox'], scan, up_indices, window, plot=plot, save=save\n",
    "        )\n",
    "        # down_slice_segs = segment_slices(\n",
    "        #     medsam, down_slices, df_slice['bbox'], scan, down_indices, window, plot=plot, save=save\n",
    "        # )\n",
    "    #     break\n",
    "    # break"
   ],
   "id": "309c563b1d7ef2a1",
   "outputs": [],
   "execution_count": null
  },
  {
   "metadata": {},
   "cell_type": "code",
   "source": "ct_path = \"/media/liushifeng/KINGSTON/ULS Jan 2025/part1/ULS23/novel_data/ULS23_DeepLesion3D/images/003717_02_01_056_lesion_01.nii.gz\"",
   "id": "855572a9071f5a1b",
   "outputs": [],
   "execution_count": null
  },
  {
   "metadata": {},
   "cell_type": "code",
   "source": [
    "import numpy as np\n",
    "import pandas as pd"
   ],
   "id": "92d39720684bd90b",
   "outputs": [],
   "execution_count": null
  },
  {
   "metadata": {},
   "cell_type": "code",
   "source": [
    "def get_slice_stats(slices, slice_segs):\n",
    "    median_conf = []\n",
    "    size = []\n",
    "    intensity = []\n",
    "\n",
    "    for i in range(len(slices)):\n",
    "        img = np.array(slices[i])\n",
    "        seg = slice_segs[i]\n",
    "        low, mid, high = split_seg(seg)\n",
    "\n",
    "        median_conf.append(np.median(seg[seg > 0.1]))\n",
    "        size.append((mid.sum() + high.sum()))\n",
    "        intensity.append(np.mean(img[high.astype(bool)]))\n",
    "\n",
    "    # get stats of slices\n",
    "    res = pd.DataFrame([median_conf, size, intensity]).T\n",
    "    res.columns = ['median_conf', 'size', 'intensity']\n",
    "    res = res / res.iloc[0]\n",
    "    return res"
   ],
   "id": "93238c66ef8432ee",
   "outputs": [],
   "execution_count": null
  },
  {
   "metadata": {},
   "cell_type": "code",
   "source": [
    "res_up = get_slice_stats(up_slices, up_slice_segs)\n",
    "res_down = get_slice_stats(down_slices, down_slice_segs)\n",
    "\n",
    "res = pd.concat([res_up.iloc[1:].iloc[::-1], res_down], axis=0).reset_index(drop=True)\n",
    "res.plot(figsize=(5,4));"
   ],
   "id": "2c05f3a93bfa270d",
   "outputs": [],
   "execution_count": null
  },
  {
   "metadata": {},
   "cell_type": "code",
   "source": [
    "import numpy as np\n",
    "\n",
    "# Calculate the centroid of the segs[2] 2D mask\n",
    "mask = segs[2]\n",
    "y, x = np.where(mask == 1)\n",
    "centroid = (np.mean(x), np.mean(y)) if len(x) > 0 and len(y) > 0 else (None, None)\n",
    "print(\"Centroid:\", centroid)"
   ],
   "id": "22d32ee9f293031f",
   "outputs": [],
   "execution_count": null
  },
  {
   "cell_type": "code",
   "id": "125317f3-4d31-4105-9a97-452de0195465",
   "metadata": {},
   "source": [
    "plt.figure(figsize=(6, 5));\n",
    "plt.imshow(abdomen);\n",
    "plt.imshow(segs[2], cmap=transparent_cmap(\"red\"));\n",
    "plt.colorbar();\n",
    "plt.axis('off');"
   ],
   "outputs": [],
   "execution_count": null
  },
  {
   "metadata": {},
   "cell_type": "code",
   "source": "",
   "id": "38df5843cade4c4c",
   "outputs": [],
   "execution_count": null
  }
 ],
 "metadata": {
  "kernelspec": {
   "display_name": "medsam-py3.10",
   "language": "python",
   "name": "medsam-py3.10"
  },
  "language_info": {
   "codemirror_mode": {
    "name": "ipython",
    "version": 3
   },
   "file_extension": ".py",
   "mimetype": "text/x-python",
   "name": "python",
   "nbconvert_exporter": "python",
   "pygments_lexer": "ipython3",
   "version": "3.10.12"
  }
 },
 "nbformat": 4,
 "nbformat_minor": 5
}
